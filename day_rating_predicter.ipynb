{
 "cells": [
  {
   "cell_type": "code",
   "execution_count": null,
   "metadata": {},
   "outputs": [],
   "source": [
    "# Does not work\n",
    "#!pip install -r requirements.txt\n",
    "\n",
    "# Also doesn't work\n",
    "#!conda install --file requirements.txt\n",
    "\n",
    "# This hack kind of works, but is incredibly slow.\n",
    "#!conda install --yes --file requirements.txt\n",
    "#!while read requirement; do conda install --yes $requirement; done < requirements.txt\n",
    "\n",
    "# Manually installing the pip packages I need works.\n",
    "!pip install pymysql\n",
    "!pip install tensorflow_transform\n",
    "!pip install pyasn1 -U\n",
    "!pip install scikit-learn\n",
    "\n",
    "#!pip install ."
   ]
  },
  {
   "cell_type": "code",
   "execution_count": null,
   "metadata": {},
   "outputs": [],
   "source": [
    "!pip install ssm-parameter-store\n",
    "\n",
    "import os\n",
    "from ssm_parameter_store import EC2ParameterStore\n",
    "\n",
    "store = EC2ParameterStore()\n",
    "\n",
    "pw = store.get_parameter('dataplattform_aurora_prod_password', decrypt=True)\n",
    "os.environ[\"DATAPLATTFORM_AURORA_PASSWORD\"] = pw[\"dataplattform_aurora_prod_password\"]\n",
    "\n",
    "os.environ[\"DATAPLATTFORM_AURORA_USER\"] = \"admin\"\n",
    "\n",
    "os.environ[\"DATAPLATTFORM_AURORA_PORT\"] = \"3306\"\n",
    "\n",
    "os.environ[\"DATAPLATTFORM_AURORA_DB_NAME\"] = \"Dataplattform\"\n",
    "\n",
    "host = store.get_parameter('dataplattform_aurora_prod_host_ro', decrypt=True)\n",
    "os.environ[\"DATAPLATTFORM_AURORA_HOST\"] = host[\"dataplattform_aurora_prod_host_ro\"]"
   ]
  },
  {
   "cell_type": "code",
   "execution_count": null,
   "metadata": {},
   "outputs": [],
   "source": [
    "import learner\n",
    "from datetime import datetime\n",
    "start_date = datetime(2019, 7, 23, 22, 23, 29)\n",
    "model = learner.train(start_date, days=365)"
   ]
  },
  {
   "cell_type": "code",
   "execution_count": null,
   "metadata": {},
   "outputs": [],
   "source": []
  }
 ],
 "metadata": {
  "kernelspec": {
   "display_name": "conda_tensorflow_p36",
   "language": "python",
   "name": "conda_tensorflow_p36"
  },
  "language_info": {
   "codemirror_mode": {
    "name": "ipython",
    "version": 3
   },
   "file_extension": ".py",
   "mimetype": "text/x-python",
   "name": "python",
   "nbconvert_exporter": "python",
   "pygments_lexer": "ipython3",
   "version": "3.6.5"
  },
  "pycharm": {
   "stem_cell": {
    "cell_type": "raw",
    "metadata": {
     "collapsed": false
    },
    "source": []
   }
  }
 },
 "nbformat": 4,
 "nbformat_minor": 2
}
